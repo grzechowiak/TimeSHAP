{
 "cells": [
  {
   "cell_type": "markdown",
   "id": "6fd33e28",
   "metadata": {},
   "source": [
    "## Imports"
   ]
  },
  {
   "cell_type": "code",
   "execution_count": 1,
   "id": "e9fd37d6",
   "metadata": {},
   "outputs": [],
   "source": [
    "import pandas as pd\n",
    "import numpy as np\n",
    "\n",
    "import tensorflow as tf\n",
    "from tensorflow import keras\n",
    "from tensorflow.keras import Model\n",
    "from tensorflow.keras.models import Sequential, load_model\n",
    "from tensorflow.keras import layers, callbacks, optimizers\n",
    "from tensorflow.keras.layers import Dense, Dropout\n",
    "from tensorflow.keras.layers import LSTM, Bidirectional\n",
    "from tensorflow.keras.preprocessing import sequence\n",
    "\n",
    "import shap\n",
    "\n",
    "import warnings\n",
    "warnings.filterwarnings(\"ignore\")"
   ]
  },
  {
   "cell_type": "markdown",
   "id": "91ef6a7d",
   "metadata": {},
   "source": [
    "## Read Data"
   ]
  },
  {
   "cell_type": "code",
   "execution_count": 2,
   "id": "c0773002",
   "metadata": {},
   "outputs": [
    {
     "data": {
      "text/html": [
       "<div>\n",
       "<style scoped>\n",
       "    .dataframe tbody tr th:only-of-type {\n",
       "        vertical-align: middle;\n",
       "    }\n",
       "\n",
       "    .dataframe tbody tr th {\n",
       "        vertical-align: top;\n",
       "    }\n",
       "\n",
       "    .dataframe thead th {\n",
       "        text-align: right;\n",
       "    }\n",
       "</style>\n",
       "<table border=\"1\" class=\"dataframe\">\n",
       "  <thead>\n",
       "    <tr style=\"text-align: right;\">\n",
       "      <th></th>\n",
       "      <th>Label</th>\n",
       "      <th>Sequence</th>\n",
       "      <th>Timestamp</th>\n",
       "      <th>feature_1</th>\n",
       "      <th>feature_2</th>\n",
       "      <th>feature_3</th>\n",
       "    </tr>\n",
       "  </thead>\n",
       "  <tbody>\n",
       "    <tr>\n",
       "      <th>0</th>\n",
       "      <td>0.0</td>\n",
       "      <td>p000001</td>\n",
       "      <td>5.0</td>\n",
       "      <td>83.14</td>\n",
       "      <td>37.143754</td>\n",
       "      <td>245.289318</td>\n",
       "    </tr>\n",
       "    <tr>\n",
       "      <th>1</th>\n",
       "      <td>0.0</td>\n",
       "      <td>p000001</td>\n",
       "      <td>6.0</td>\n",
       "      <td>83.14</td>\n",
       "      <td>37.143754</td>\n",
       "      <td>245.289318</td>\n",
       "    </tr>\n",
       "    <tr>\n",
       "      <th>2</th>\n",
       "      <td>0.0</td>\n",
       "      <td>p000001</td>\n",
       "      <td>7.0</td>\n",
       "      <td>83.14</td>\n",
       "      <td>36.110000</td>\n",
       "      <td>245.289318</td>\n",
       "    </tr>\n",
       "    <tr>\n",
       "      <th>3</th>\n",
       "      <td>0.0</td>\n",
       "      <td>p000001</td>\n",
       "      <td>8.0</td>\n",
       "      <td>83.14</td>\n",
       "      <td>37.143754</td>\n",
       "      <td>245.289318</td>\n",
       "    </tr>\n",
       "    <tr>\n",
       "      <th>4</th>\n",
       "      <td>0.0</td>\n",
       "      <td>p000001</td>\n",
       "      <td>9.0</td>\n",
       "      <td>83.14</td>\n",
       "      <td>37.143754</td>\n",
       "      <td>245.289318</td>\n",
       "    </tr>\n",
       "    <tr>\n",
       "      <th>...</th>\n",
       "      <td>...</td>\n",
       "      <td>...</td>\n",
       "      <td>...</td>\n",
       "      <td>...</td>\n",
       "      <td>...</td>\n",
       "      <td>...</td>\n",
       "    </tr>\n",
       "    <tr>\n",
       "      <th>5345</th>\n",
       "      <td>0.0</td>\n",
       "      <td>p000134</td>\n",
       "      <td>28.0</td>\n",
       "      <td>64.60</td>\n",
       "      <td>37.143754</td>\n",
       "      <td>164.000000</td>\n",
       "    </tr>\n",
       "    <tr>\n",
       "      <th>5346</th>\n",
       "      <td>0.0</td>\n",
       "      <td>p000134</td>\n",
       "      <td>29.0</td>\n",
       "      <td>64.60</td>\n",
       "      <td>36.670000</td>\n",
       "      <td>164.000000</td>\n",
       "    </tr>\n",
       "    <tr>\n",
       "      <th>5347</th>\n",
       "      <td>0.0</td>\n",
       "      <td>p000134</td>\n",
       "      <td>30.0</td>\n",
       "      <td>64.60</td>\n",
       "      <td>37.143754</td>\n",
       "      <td>164.000000</td>\n",
       "    </tr>\n",
       "    <tr>\n",
       "      <th>5348</th>\n",
       "      <td>0.0</td>\n",
       "      <td>p000134</td>\n",
       "      <td>31.0</td>\n",
       "      <td>64.60</td>\n",
       "      <td>37.143754</td>\n",
       "      <td>164.000000</td>\n",
       "    </tr>\n",
       "    <tr>\n",
       "      <th>5349</th>\n",
       "      <td>0.0</td>\n",
       "      <td>p000134</td>\n",
       "      <td>32.0</td>\n",
       "      <td>64.60</td>\n",
       "      <td>37.143754</td>\n",
       "      <td>164.000000</td>\n",
       "    </tr>\n",
       "  </tbody>\n",
       "</table>\n",
       "<p>5350 rows × 6 columns</p>\n",
       "</div>"
      ],
      "text/plain": [
       "      Label Sequence  Timestamp  feature_1  feature_2   feature_3\n",
       "0       0.0  p000001        5.0      83.14  37.143754  245.289318\n",
       "1       0.0  p000001        6.0      83.14  37.143754  245.289318\n",
       "2       0.0  p000001        7.0      83.14  36.110000  245.289318\n",
       "3       0.0  p000001        8.0      83.14  37.143754  245.289318\n",
       "4       0.0  p000001        9.0      83.14  37.143754  245.289318\n",
       "...     ...      ...        ...        ...        ...         ...\n",
       "5345    0.0  p000134       28.0      64.60  37.143754  164.000000\n",
       "5346    0.0  p000134       29.0      64.60  36.670000  164.000000\n",
       "5347    0.0  p000134       30.0      64.60  37.143754  164.000000\n",
       "5348    0.0  p000134       31.0      64.60  37.143754  164.000000\n",
       "5349    0.0  p000134       32.0      64.60  37.143754  164.000000\n",
       "\n",
       "[5350 rows x 6 columns]"
      ]
     },
     "execution_count": 2,
     "metadata": {},
     "output_type": "execute_result"
    }
   ],
   "source": [
    "### Read Train csv\n",
    "\n",
    "imputed_train = pd.read_csv('data_timeshap_train.csv', index_col=False)\n",
    "imputed_train"
   ]
  },
  {
   "cell_type": "code",
   "execution_count": 3,
   "id": "99ec31da",
   "metadata": {},
   "outputs": [
    {
     "data": {
      "text/html": [
       "<div>\n",
       "<style scoped>\n",
       "    .dataframe tbody tr th:only-of-type {\n",
       "        vertical-align: middle;\n",
       "    }\n",
       "\n",
       "    .dataframe tbody tr th {\n",
       "        vertical-align: top;\n",
       "    }\n",
       "\n",
       "    .dataframe thead th {\n",
       "        text-align: right;\n",
       "    }\n",
       "</style>\n",
       "<table border=\"1\" class=\"dataframe\">\n",
       "  <thead>\n",
       "    <tr style=\"text-align: right;\">\n",
       "      <th></th>\n",
       "      <th>Label</th>\n",
       "      <th>Sequence</th>\n",
       "      <th>Timestamp</th>\n",
       "      <th>feature_1</th>\n",
       "      <th>feature_2</th>\n",
       "      <th>feature_3</th>\n",
       "    </tr>\n",
       "  </thead>\n",
       "  <tbody>\n",
       "    <tr>\n",
       "      <th>0</th>\n",
       "      <td>0.0</td>\n",
       "      <td>p000032</td>\n",
       "      <td>4.0</td>\n",
       "      <td>82.32</td>\n",
       "      <td>37.143754</td>\n",
       "      <td>245.289318</td>\n",
       "    </tr>\n",
       "    <tr>\n",
       "      <th>1</th>\n",
       "      <td>0.0</td>\n",
       "      <td>p000032</td>\n",
       "      <td>5.0</td>\n",
       "      <td>82.32</td>\n",
       "      <td>36.720000</td>\n",
       "      <td>245.289318</td>\n",
       "    </tr>\n",
       "    <tr>\n",
       "      <th>2</th>\n",
       "      <td>0.0</td>\n",
       "      <td>p000032</td>\n",
       "      <td>6.0</td>\n",
       "      <td>82.32</td>\n",
       "      <td>36.810000</td>\n",
       "      <td>245.289318</td>\n",
       "    </tr>\n",
       "    <tr>\n",
       "      <th>3</th>\n",
       "      <td>0.0</td>\n",
       "      <td>p000032</td>\n",
       "      <td>7.0</td>\n",
       "      <td>82.32</td>\n",
       "      <td>37.143754</td>\n",
       "      <td>245.289318</td>\n",
       "    </tr>\n",
       "    <tr>\n",
       "      <th>4</th>\n",
       "      <td>0.0</td>\n",
       "      <td>p000032</td>\n",
       "      <td>8.0</td>\n",
       "      <td>82.32</td>\n",
       "      <td>37.143754</td>\n",
       "      <td>245.289318</td>\n",
       "    </tr>\n",
       "    <tr>\n",
       "      <th>...</th>\n",
       "      <td>...</td>\n",
       "      <td>...</td>\n",
       "      <td>...</td>\n",
       "      <td>...</td>\n",
       "      <td>...</td>\n",
       "      <td>...</td>\n",
       "    </tr>\n",
       "    <tr>\n",
       "      <th>1345</th>\n",
       "      <td>0.0</td>\n",
       "      <td>p000128</td>\n",
       "      <td>20.0</td>\n",
       "      <td>73.09</td>\n",
       "      <td>37.143754</td>\n",
       "      <td>467.000000</td>\n",
       "    </tr>\n",
       "    <tr>\n",
       "      <th>1346</th>\n",
       "      <td>0.0</td>\n",
       "      <td>p000128</td>\n",
       "      <td>21.0</td>\n",
       "      <td>73.09</td>\n",
       "      <td>36.670000</td>\n",
       "      <td>467.000000</td>\n",
       "    </tr>\n",
       "    <tr>\n",
       "      <th>1347</th>\n",
       "      <td>0.0</td>\n",
       "      <td>p000128</td>\n",
       "      <td>22.0</td>\n",
       "      <td>73.09</td>\n",
       "      <td>37.143754</td>\n",
       "      <td>467.000000</td>\n",
       "    </tr>\n",
       "    <tr>\n",
       "      <th>1348</th>\n",
       "      <td>0.0</td>\n",
       "      <td>p000128</td>\n",
       "      <td>23.0</td>\n",
       "      <td>73.09</td>\n",
       "      <td>37.143754</td>\n",
       "      <td>467.000000</td>\n",
       "    </tr>\n",
       "    <tr>\n",
       "      <th>1349</th>\n",
       "      <td>0.0</td>\n",
       "      <td>p000128</td>\n",
       "      <td>24.0</td>\n",
       "      <td>73.09</td>\n",
       "      <td>37.143754</td>\n",
       "      <td>467.000000</td>\n",
       "    </tr>\n",
       "  </tbody>\n",
       "</table>\n",
       "<p>1350 rows × 6 columns</p>\n",
       "</div>"
      ],
      "text/plain": [
       "      Label Sequence  Timestamp  feature_1  feature_2   feature_3\n",
       "0       0.0  p000032        4.0      82.32  37.143754  245.289318\n",
       "1       0.0  p000032        5.0      82.32  36.720000  245.289318\n",
       "2       0.0  p000032        6.0      82.32  36.810000  245.289318\n",
       "3       0.0  p000032        7.0      82.32  37.143754  245.289318\n",
       "4       0.0  p000032        8.0      82.32  37.143754  245.289318\n",
       "...     ...      ...        ...        ...        ...         ...\n",
       "1345    0.0  p000128       20.0      73.09  37.143754  467.000000\n",
       "1346    0.0  p000128       21.0      73.09  36.670000  467.000000\n",
       "1347    0.0  p000128       22.0      73.09  37.143754  467.000000\n",
       "1348    0.0  p000128       23.0      73.09  37.143754  467.000000\n",
       "1349    0.0  p000128       24.0      73.09  37.143754  467.000000\n",
       "\n",
       "[1350 rows x 6 columns]"
      ]
     },
     "execution_count": 3,
     "metadata": {},
     "output_type": "execute_result"
    }
   ],
   "source": [
    "### Read Test csv\n",
    "\n",
    "imputed_test = pd.read_csv('data_timeshap_test.csv', index_col=False)\n",
    "imputed_test\n",
    "\n",
    "# Columns\n",
    "#imputed_test.columns"
   ]
  },
  {
   "cell_type": "code",
   "execution_count": 4,
   "id": "c898f782",
   "metadata": {},
   "outputs": [
    {
     "data": {
      "text/plain": [
       "['feature_1', 'feature_2', 'feature_3']"
      ]
     },
     "execution_count": 4,
     "metadata": {},
     "output_type": "execute_result"
    }
   ],
   "source": [
    "### Define Feature list\n",
    "\n",
    "features = imputed_train.columns[[3,4,5]].tolist()\n",
    "features"
   ]
  },
  {
   "cell_type": "markdown",
   "id": "89a30a4d",
   "metadata": {},
   "source": [
    "## Transofmation Functions"
   ]
  },
  {
   "cell_type": "code",
   "execution_count": 5,
   "id": "d1da5961",
   "metadata": {},
   "outputs": [],
   "source": [
    "# Define a lookback\n",
    "lookback = 50"
   ]
  },
  {
   "cell_type": "markdown",
   "id": "011d2537",
   "metadata": {},
   "source": [
    "#### Transformation adapted to my use case - Shap doesn't work"
   ]
  },
  {
   "cell_type": "code",
   "execution_count": 6,
   "id": "6fd3d2fd",
   "metadata": {},
   "outputs": [],
   "source": [
    "# Error: Input 0 of layer \"forward_lstm\" is incompatible with the layer: expected \n",
    "# shape=(None, None, 4), found shape=(None, 1, 3)"
   ]
  },
  {
   "cell_type": "code",
   "execution_count": 7,
   "id": "d8e0491f",
   "metadata": {},
   "outputs": [],
   "source": [
    "# ##### DESIRED TRANSFORATION #####\n",
    "\n",
    "# # Create a df without the 'Sequences' column\n",
    "# dl_train = imputed_train[['Timestamp', 'feature_1', 'feature_2','feature_3','Label']].copy()\n",
    "\n",
    "# # Create a df without the 'Sequences' column\n",
    "# dl_test = imputed_test[['Timestamp', 'feature_1', 'feature_2','feature_3','Label']].copy()\n",
    "\n",
    "# def split_sequences(sequences, n_steps):\n",
    "#     X, y = list(), list()\n",
    "#     for i in range(len(sequences)):\n",
    "#         # find the end of this pattern\n",
    "#         end_ix = i + n_steps\n",
    "#         # check if we are beyond the dataset\n",
    "#         if end_ix > len(sequences):\n",
    "#             break\n",
    "#         # gather input and output parts of the pattern\n",
    "#         seq_x, seq_y = sequences[i:end_ix, :-1], sequences[end_ix-1, -1]\n",
    "#         X.append(seq_x)\n",
    "#         y.append(seq_y)\n",
    "#     return np.array(X), np.array(y)\n",
    "\n",
    "\n",
    "# # Transform both train & test dataframes to numpy arrays because the split_sequences functions takes a numpy array as an input\n",
    "# X_train_reshaped = dl_train.to_numpy()\n",
    "# X_test_reshaped = dl_test.to_numpy()\n",
    "\n",
    "# print('Shape before transformation, train:', X_train_reshaped.shape)\n",
    "# print('Shape before transformation, test:', X_train_reshaped.shape)\n",
    "\n",
    "# # Create the LSTM input sequence in the shape (n_rows, lookback, n_features) from the dataframes\n",
    "# X_train_seq, Y_train_seq = split_sequences(X_train_reshaped, lookback)\n",
    "# X_test_seq, Y_test_seq = split_sequences(X_test_reshaped, lookback)\n",
    "\n",
    "# # Check the input sequence shape for the train & test datasets\n",
    "# print('A sequence training data shape:', X_train_seq.shape, Y_train_seq.shape)\n",
    "# print('A sequence test data shape:', X_test_seq.shape, Y_test_seq.shape)"
   ]
  },
  {
   "cell_type": "markdown",
   "id": "9cf7bbd2",
   "metadata": {},
   "source": [
    "#### Transformation Function taken from the AReM Tutorial - Shap works"
   ]
  },
  {
   "cell_type": "code",
   "execution_count": 8,
   "id": "033815c1",
   "metadata": {},
   "outputs": [
    {
     "name": "stdout",
     "output_type": "stream",
     "text": [
      "Shape before transformation, train: (5350, 6)\n",
      "Shape before transformation, test: (1350, 6)\n",
      "A sequence training data shape: (107, 50, 3) (107,)\n",
      "A sequence test data shape: (27, 50, 3) (27,)\n"
     ]
    }
   ],
   "source": [
    "# ##### USING THE FUNCTION FROM THE TUTORIAL #####\n",
    "\n",
    "# All features are taken \n",
    "dl_train = imputed_train\n",
    "\n",
    "# All features are taken \n",
    "dl_test = imputed_test\n",
    "\n",
    "\n",
    "def df_to_numpy(df, model_feats, label_feat, group_by_feat, timestamp_Feat):\n",
    "    \n",
    "    sequence_length = 50\n",
    "\n",
    "    data_tensor = np.zeros(\n",
    "    (len(df[group_by_feat].unique()), sequence_length, len(model_feats)))\n",
    "    \n",
    "    labels_tensor = np.zeros((len(df[group_by_feat].unique()), ))\n",
    "\n",
    "    for i, name in enumerate(df[group_by_feat].unique()):\n",
    "\n",
    "        name_data = df[df[group_by_feat] == name]\n",
    "        sorted_data = name_data.sort_values(timestamp_Feat)\n",
    "        \n",
    "        data_x = sorted_data[model_feats].values\n",
    "        labels = sorted_data[label_feat].values\n",
    "\n",
    "        data_tensor[i, :, :] = data_x\n",
    "        labels_tensor[i, ] = np.max(labels)\n",
    "    \n",
    "    return data_tensor, labels_tensor\n",
    "\n",
    "\n",
    "X_train_seq, Y_train_seq = df_to_numpy(dl_train, features, 'Label', 'Sequence', 'Timestamp')\n",
    "X_test_seq, Y_test_seq = df_to_numpy(dl_test, features, 'Label', 'Sequence', 'Timestamp')\n",
    "\n",
    "print('Shape before transformation, train:', dl_train.shape)\n",
    "print('Shape before transformation, test:', dl_test.shape)\n",
    "\n",
    "# Check the input sequence shape for the train & test datasets\n",
    "print('A sequence training data shape:', X_train_seq.shape, Y_train_seq.shape)\n",
    "print('A sequence test data shape:', X_test_seq.shape, Y_test_seq.shape)"
   ]
  },
  {
   "cell_type": "markdown",
   "id": "86465b7f",
   "metadata": {},
   "source": [
    "## Define LSTM "
   ]
  },
  {
   "cell_type": "code",
   "execution_count": 9,
   "id": "320abce0",
   "metadata": {},
   "outputs": [
    {
     "name": "stdout",
     "output_type": "stream",
     "text": [
      "Training with batch_size & lookback = 50\n"
     ]
    }
   ],
   "source": [
    "# Set the random seed into the tensorflow backend to re-create results\n",
    "seed = 42\n",
    "tf.random.set_seed(seed)\n",
    "\n",
    "# Set the number of features to be used as an input\n",
    "n_features = len(features)\n",
    "batch_size = lookback\n",
    "print('Training with batch_size & lookback =', str(batch_size))"
   ]
  },
  {
   "cell_type": "code",
   "execution_count": 10,
   "id": "9fb3519a",
   "metadata": {},
   "outputs": [],
   "source": [
    "# Ensure that the previous sessions in the tensorflow backend are cleared\n",
    "tf.keras.backend.clear_session()\n",
    "\n",
    "# Define the model architecture\n",
    "model = Sequential()\n",
    "\n",
    "# Layer 1\n",
    "model.add(Bidirectional(LSTM(26, activation='tanh', return_sequences=True, input_shape=(lookback, n_features))))\n",
    "\n",
    "# Layer 2 \n",
    "model.add(Bidirectional(LSTM(12, activation='tanh')))\n",
    "\n",
    "# Layer 3 - Prediction layer\n",
    "model.add(Dense(1, activation='sigmoid'))\n",
    "\n",
    "\n",
    "##Compile the LSTM model & define the optimization function\n",
    "\n",
    "# Define the model optimization function to the Adam optimizer and set the learning rate\n",
    "opt = tf.keras.optimizers.Adam(learning_rate=0.01)\n",
    "\n",
    "# Define the early stopping function to stop the model before it starts overfitting\n",
    "early_stopping = callbacks.EarlyStopping(monitor='val_loss', mode='min', verbose=1, patience=10, min_delta=0.001, restore_best_weights=True)\n",
    "\n",
    "# Compile the model using the \"binary_crossentropy\" loss function\n",
    "model.compile(\n",
    "    optimizer=opt,\n",
    "    loss='binary_crossentropy',\n",
    "    metrics=['binary_accuracy', keras.metrics.Precision(), keras.metrics.Recall()]\n",
    ")"
   ]
  },
  {
   "cell_type": "markdown",
   "id": "12584a28",
   "metadata": {},
   "source": [
    "## Train the model"
   ]
  },
  {
   "cell_type": "code",
   "execution_count": 11,
   "id": "64fede42",
   "metadata": {
    "scrolled": true
   },
   "outputs": [
    {
     "name": "stdout",
     "output_type": "stream",
     "text": [
      "Epoch 1/400\n",
      "3/3 [==============================] - 12s 881ms/step - loss: 0.6141 - binary_accuracy: 0.5888 - precision: 0.1190 - recall: 0.4167 - val_loss: 0.3115 - val_binary_accuracy: 0.9259 - val_precision: 0.0000e+00 - val_recall: 0.0000e+00\n",
      "Epoch 2/400\n",
      "3/3 [==============================] - 0s 61ms/step - loss: 0.3455 - binary_accuracy: 0.8879 - precision: 0.0000e+00 - recall: 0.0000e+00 - val_loss: 0.2746 - val_binary_accuracy: 0.9259 - val_precision: 0.0000e+00 - val_recall: 0.0000e+00\n",
      "Epoch 3/400\n",
      "3/3 [==============================] - 0s 60ms/step - loss: 0.3536 - binary_accuracy: 0.8879 - precision: 0.0000e+00 - recall: 0.0000e+00 - val_loss: 0.2804 - val_binary_accuracy: 0.9259 - val_precision: 0.0000e+00 - val_recall: 0.0000e+00\n",
      "Epoch 4/400\n",
      "3/3 [==============================] - 0s 64ms/step - loss: 0.3582 - binary_accuracy: 0.8879 - precision: 0.0000e+00 - recall: 0.0000e+00 - val_loss: 0.2796 - val_binary_accuracy: 0.9259 - val_precision: 0.0000e+00 - val_recall: 0.0000e+00\n",
      "Epoch 5/400\n",
      "3/3 [==============================] - 0s 64ms/step - loss: 0.3348 - binary_accuracy: 0.8879 - precision: 0.0000e+00 - recall: 0.0000e+00 - val_loss: 0.2761 - val_binary_accuracy: 0.9259 - val_precision: 0.0000e+00 - val_recall: 0.0000e+00\n",
      "Epoch 6/400\n",
      "3/3 [==============================] - 0s 69ms/step - loss: 0.3145 - binary_accuracy: 0.8879 - precision: 0.0000e+00 - recall: 0.0000e+00 - val_loss: 0.2786 - val_binary_accuracy: 0.9259 - val_precision: 0.0000e+00 - val_recall: 0.0000e+00\n",
      "Epoch 7/400\n",
      "3/3 [==============================] - 0s 70ms/step - loss: 0.2997 - binary_accuracy: 0.8879 - precision: 0.0000e+00 - recall: 0.0000e+00 - val_loss: 0.2961 - val_binary_accuracy: 0.9259 - val_precision: 0.0000e+00 - val_recall: 0.0000e+00\n",
      "Epoch 8/400\n",
      "3/3 [==============================] - 0s 69ms/step - loss: 0.2772 - binary_accuracy: 0.8879 - precision: 0.0000e+00 - recall: 0.0000e+00 - val_loss: 0.3049 - val_binary_accuracy: 0.9259 - val_precision: 0.0000e+00 - val_recall: 0.0000e+00\n",
      "Epoch 9/400\n",
      "3/3 [==============================] - 0s 59ms/step - loss: 0.2719 - binary_accuracy: 0.8879 - precision: 0.0000e+00 - recall: 0.0000e+00 - val_loss: 0.3372 - val_binary_accuracy: 0.9259 - val_precision: 0.0000e+00 - val_recall: 0.0000e+00\n",
      "Epoch 10/400\n",
      "3/3 [==============================] - 0s 71ms/step - loss: 0.2582 - binary_accuracy: 0.8879 - precision: 0.0000e+00 - recall: 0.0000e+00 - val_loss: 0.3518 - val_binary_accuracy: 0.9259 - val_precision: 0.0000e+00 - val_recall: 0.0000e+00\n",
      "Epoch 11/400\n",
      "3/3 [==============================] - 0s 77ms/step - loss: 0.2598 - binary_accuracy: 0.8879 - precision: 0.0000e+00 - recall: 0.0000e+00 - val_loss: 0.3433 - val_binary_accuracy: 0.9259 - val_precision: 0.0000e+00 - val_recall: 0.0000e+00\n",
      "Epoch 12/400\n",
      "2/3 [===================>..........] - ETA: 0s - loss: 0.2560 - binary_accuracy: 0.8800 - precision: 0.0000e+00 - recall: 0.0000e+00Restoring model weights from the end of the best epoch: 2.\n",
      "3/3 [==============================] - 0s 78ms/step - loss: 0.2432 - binary_accuracy: 0.8879 - precision: 0.0000e+00 - recall: 0.0000e+00 - val_loss: 0.3422 - val_binary_accuracy: 0.9259 - val_precision: 0.0000e+00 - val_recall: 0.0000e+00\n",
      "Epoch 12: early stopping\n"
     ]
    }
   ],
   "source": [
    "history = model.fit(\n",
    "    X_train_seq, Y_train_seq,\n",
    "    validation_data=(X_test_seq, Y_test_seq),\n",
    "    shuffle=False,\n",
    "    batch_size=batch_size,\n",
    "    epochs=400,\n",
    "    callbacks=[early_stopping],\n",
    "    verbose=1)"
   ]
  },
  {
   "cell_type": "code",
   "execution_count": 12,
   "id": "15ad5e0f",
   "metadata": {
    "scrolled": true
   },
   "outputs": [],
   "source": [
    "# Evaluation\n",
    "\n",
    "# history_df = pd.DataFrame(history.history)\n",
    "# print(('Best Validation Loss: {}'.format(round(history_df['val_loss'].min(),2))))\n",
    "# print(('Best Validation Accuracy: {}'.format(round(history_df['val_binary_accuracy'].max(),2))))\n",
    "# print(('Best Validation Precision: {}'.format(round(history_df['val_precision'].max(),2))))\n",
    "# print(('Best Validation Recall: {}'.format(round(history_df['val_recall'].max(),2))))"
   ]
  },
  {
   "cell_type": "markdown",
   "id": "77c9977b",
   "metadata": {},
   "source": [
    "## SHAP Values"
   ]
  },
  {
   "cell_type": "markdown",
   "id": "c2b45c42",
   "metadata": {},
   "source": [
    "###### Define Naming"
   ]
  },
  {
   "cell_type": "code",
   "execution_count": 13,
   "id": "6f5095b7",
   "metadata": {},
   "outputs": [],
   "source": [
    "## Define variables' the naming\n",
    "\n",
    "model_features = features \n",
    "label = 'Label'\n",
    "sequence_id_feat = 'Sequence' \n",
    "time_feat = 'Timestamp'"
   ]
  },
  {
   "cell_type": "code",
   "execution_count": 14,
   "id": "21ec441b",
   "metadata": {},
   "outputs": [
    {
     "data": {
      "text/plain": [
       "['feature_1', 'feature_2', 'feature_3']"
      ]
     },
     "execution_count": 14,
     "metadata": {},
     "output_type": "execute_result"
    }
   ],
   "source": [
    "model_features"
   ]
  },
  {
   "cell_type": "markdown",
   "id": "f3181a6b",
   "metadata": {},
   "source": [
    "###### What Sequence to be explained"
   ]
  },
  {
   "cell_type": "code",
   "execution_count": 15,
   "id": "b7dcc6c3",
   "metadata": {},
   "outputs": [
    {
     "data": {
      "text/html": [
       "<div>\n",
       "<style scoped>\n",
       "    .dataframe tbody tr th:only-of-type {\n",
       "        vertical-align: middle;\n",
       "    }\n",
       "\n",
       "    .dataframe tbody tr th {\n",
       "        vertical-align: top;\n",
       "    }\n",
       "\n",
       "    .dataframe thead th {\n",
       "        text-align: right;\n",
       "    }\n",
       "</style>\n",
       "<table border=\"1\" class=\"dataframe\">\n",
       "  <thead>\n",
       "    <tr style=\"text-align: right;\">\n",
       "      <th></th>\n",
       "      <th>feature_1</th>\n",
       "      <th>feature_2</th>\n",
       "      <th>feature_3</th>\n",
       "    </tr>\n",
       "  </thead>\n",
       "  <tbody>\n",
       "    <tr>\n",
       "      <th>50</th>\n",
       "      <td>27.92</td>\n",
       "      <td>37.940000</td>\n",
       "      <td>448.0</td>\n",
       "    </tr>\n",
       "    <tr>\n",
       "      <th>51</th>\n",
       "      <td>27.92</td>\n",
       "      <td>37.143754</td>\n",
       "      <td>448.0</td>\n",
       "    </tr>\n",
       "    <tr>\n",
       "      <th>52</th>\n",
       "      <td>27.92</td>\n",
       "      <td>37.143754</td>\n",
       "      <td>448.0</td>\n",
       "    </tr>\n",
       "    <tr>\n",
       "      <th>53</th>\n",
       "      <td>27.92</td>\n",
       "      <td>38.780000</td>\n",
       "      <td>448.0</td>\n",
       "    </tr>\n",
       "    <tr>\n",
       "      <th>54</th>\n",
       "      <td>27.92</td>\n",
       "      <td>37.143754</td>\n",
       "      <td>448.0</td>\n",
       "    </tr>\n",
       "    <tr>\n",
       "      <th>55</th>\n",
       "      <td>27.92</td>\n",
       "      <td>37.143754</td>\n",
       "      <td>448.0</td>\n",
       "    </tr>\n",
       "    <tr>\n",
       "      <th>56</th>\n",
       "      <td>27.92</td>\n",
       "      <td>39.000000</td>\n",
       "      <td>448.0</td>\n",
       "    </tr>\n",
       "    <tr>\n",
       "      <th>57</th>\n",
       "      <td>27.92</td>\n",
       "      <td>37.143754</td>\n",
       "      <td>448.0</td>\n",
       "    </tr>\n",
       "    <tr>\n",
       "      <th>58</th>\n",
       "      <td>27.92</td>\n",
       "      <td>37.143754</td>\n",
       "      <td>448.0</td>\n",
       "    </tr>\n",
       "    <tr>\n",
       "      <th>59</th>\n",
       "      <td>27.92</td>\n",
       "      <td>38.330000</td>\n",
       "      <td>448.0</td>\n",
       "    </tr>\n",
       "  </tbody>\n",
       "</table>\n",
       "</div>"
      ],
      "text/plain": [
       "    feature_1  feature_2  feature_3\n",
       "50      27.92  37.940000      448.0\n",
       "51      27.92  37.143754      448.0\n",
       "52      27.92  37.143754      448.0\n",
       "53      27.92  38.780000      448.0\n",
       "54      27.92  37.143754      448.0\n",
       "55      27.92  37.143754      448.0\n",
       "56      27.92  39.000000      448.0\n",
       "57      27.92  37.143754      448.0\n",
       "58      27.92  37.143754      448.0\n",
       "59      27.92  38.330000      448.0"
      ]
     },
     "execution_count": 15,
     "metadata": {},
     "output_type": "execute_result"
    }
   ],
   "source": [
    "## For our local explanations, we will be explaining the sequence defined as 'what_to_explain'\n",
    "\n",
    "what_to_explain = 'p000009'\n",
    "positive_sequence_id = what_to_explain\n",
    "\n",
    "pos_x_data = imputed_train[imputed_train['Sequence']==what_to_explain]\n",
    "pos_x_data = pos_x_data[model_features]\n",
    "\n",
    "pos_x_data.head(10)"
   ]
  },
  {
   "cell_type": "markdown",
   "id": "324f6324",
   "metadata": {},
   "source": [
    "##### Model entry point"
   ]
  },
  {
   "cell_type": "code",
   "execution_count": 16,
   "id": "ea86c773",
   "metadata": {},
   "outputs": [],
   "source": [
    "f = lambda x: model.predict(x)"
   ]
  },
  {
   "cell_type": "markdown",
   "id": "c314e27b",
   "metadata": {},
   "source": [
    "###### Baseline event"
   ]
  },
  {
   "cell_type": "code",
   "execution_count": 17,
   "id": "458d55fd",
   "metadata": {},
   "outputs": [],
   "source": [
    "from timeshap.utils import calc_avg_event\n",
    "average_event = calc_avg_event(dl_train, numerical_feats=model_features, categorical_feats=[])"
   ]
  },
  {
   "cell_type": "code",
   "execution_count": 18,
   "id": "23bec052",
   "metadata": {},
   "outputs": [
    {
     "data": {
      "text/html": [
       "<div>\n",
       "<style scoped>\n",
       "    .dataframe tbody tr th:only-of-type {\n",
       "        vertical-align: middle;\n",
       "    }\n",
       "\n",
       "    .dataframe tbody tr th {\n",
       "        vertical-align: top;\n",
       "    }\n",
       "\n",
       "    .dataframe thead th {\n",
       "        text-align: right;\n",
       "    }\n",
       "</style>\n",
       "<table border=\"1\" class=\"dataframe\">\n",
       "  <thead>\n",
       "    <tr style=\"text-align: right;\">\n",
       "      <th></th>\n",
       "      <th>feature_1</th>\n",
       "      <th>feature_2</th>\n",
       "      <th>feature_3</th>\n",
       "    </tr>\n",
       "  </thead>\n",
       "  <tbody>\n",
       "    <tr>\n",
       "      <th>0</th>\n",
       "      <td>51.14</td>\n",
       "      <td>37.143754</td>\n",
       "      <td>158.0</td>\n",
       "    </tr>\n",
       "  </tbody>\n",
       "</table>\n",
       "</div>"
      ],
      "text/plain": [
       "   feature_1  feature_2  feature_3\n",
       "0      51.14  37.143754      158.0"
      ]
     },
     "execution_count": 18,
     "metadata": {},
     "output_type": "execute_result"
    }
   ],
   "source": [
    "average_event"
   ]
  },
  {
   "cell_type": "markdown",
   "id": "3b937a81",
   "metadata": {},
   "source": [
    "###### Average score over baseline"
   ]
  },
  {
   "cell_type": "code",
   "execution_count": 19,
   "id": "ee9e2b3d",
   "metadata": {},
   "outputs": [],
   "source": [
    "from timeshap.utils import get_avg_score_with_avg_event\n",
    "avg_score_over_len = get_avg_score_with_avg_event(f, average_event, top=50)"
   ]
  },
  {
   "cell_type": "markdown",
   "id": "12ffc332",
   "metadata": {},
   "source": [
    "### Local Explanations"
   ]
  },
  {
   "cell_type": "code",
   "execution_count": 20,
   "id": "09fed2b6",
   "metadata": {},
   "outputs": [
    {
     "data": {
      "text/plain": [
       "(1, 50, 3)"
      ]
     },
     "execution_count": 20,
     "metadata": {},
     "output_type": "execute_result"
    }
   ],
   "source": [
    "from timeshap.plot import plot_temp_coalition_pruning, plot_event_heatmap, plot_feat_barplot, plot_cell_level\n",
    "from timeshap.explainer import local_pruning, local_event, local_feat, local_cell_level\n",
    "\n",
    "# convert the instance to numpy so TimeSHAP receives it\n",
    "pos_x_data = np.expand_dims(pos_x_data.to_numpy().copy(), axis=0)\n",
    "pos_x_data.shape"
   ]
  },
  {
   "cell_type": "markdown",
   "id": "5882f3a3",
   "metadata": {},
   "source": [
    "###### Pruning Alrogithm"
   ]
  },
  {
   "cell_type": "code",
   "execution_count": 21,
   "id": "e4f242b6",
   "metadata": {},
   "outputs": [
    {
     "name": "stdout",
     "output_type": "stream",
     "text": [
      "No path to explainer data provided. Calculating data\n"
     ]
    },
    {
     "data": {
      "text/html": [
       "\n",
       "<div id=\"altair-viz-f7a4c416012a484aab37fc77d5062ece\"></div>\n",
       "<script type=\"text/javascript\">\n",
       "  var VEGA_DEBUG = (typeof VEGA_DEBUG == \"undefined\") ? {} : VEGA_DEBUG;\n",
       "  (function(spec, embedOpt){\n",
       "    let outputDiv = document.currentScript.previousElementSibling;\n",
       "    if (outputDiv.id !== \"altair-viz-f7a4c416012a484aab37fc77d5062ece\") {\n",
       "      outputDiv = document.getElementById(\"altair-viz-f7a4c416012a484aab37fc77d5062ece\");\n",
       "    }\n",
       "    const paths = {\n",
       "      \"vega\": \"https://cdn.jsdelivr.net/npm//vega@5?noext\",\n",
       "      \"vega-lib\": \"https://cdn.jsdelivr.net/npm//vega-lib?noext\",\n",
       "      \"vega-lite\": \"https://cdn.jsdelivr.net/npm//vega-lite@4.17.0?noext\",\n",
       "      \"vega-embed\": \"https://cdn.jsdelivr.net/npm//vega-embed@6?noext\",\n",
       "    };\n",
       "\n",
       "    function maybeLoadScript(lib, version) {\n",
       "      var key = `${lib.replace(\"-\", \"\")}_version`;\n",
       "      return (VEGA_DEBUG[key] == version) ?\n",
       "        Promise.resolve(paths[lib]) :\n",
       "        new Promise(function(resolve, reject) {\n",
       "          var s = document.createElement('script');\n",
       "          document.getElementsByTagName(\"head\")[0].appendChild(s);\n",
       "          s.async = true;\n",
       "          s.onload = () => {\n",
       "            VEGA_DEBUG[key] = version;\n",
       "            return resolve(paths[lib]);\n",
       "          };\n",
       "          s.onerror = () => reject(`Error loading script: ${paths[lib]}`);\n",
       "          s.src = paths[lib];\n",
       "        });\n",
       "    }\n",
       "\n",
       "    function showError(err) {\n",
       "      outputDiv.innerHTML = `<div class=\"error\" style=\"color:red;\">${err}</div>`;\n",
       "      throw err;\n",
       "    }\n",
       "\n",
       "    function displayChart(vegaEmbed) {\n",
       "      vegaEmbed(outputDiv, spec, embedOpt)\n",
       "        .catch(err => showError(`Javascript Error: ${err.message}<br>This usually means there's a typo in your chart specification. See the javascript console for the full traceback.`));\n",
       "    }\n",
       "\n",
       "    if(typeof define === \"function\" && define.amd) {\n",
       "      requirejs.config({paths});\n",
       "      require([\"vega-embed\"], displayChart, err => showError(`Error loading script: ${err.message}`));\n",
       "    } else {\n",
       "      maybeLoadScript(\"vega\", \"5\")\n",
       "        .then(() => maybeLoadScript(\"vega-lite\", \"4.17.0\"))\n",
       "        .then(() => maybeLoadScript(\"vega-embed\", \"6\"))\n",
       "        .catch(showError)\n",
       "        .then(() => displayChart(vegaEmbed));\n",
       "    }\n",
       "  })({\"config\": {\"view\": {\"continuousWidth\": 400, \"continuousHeight\": 300}}, \"layer\": [{\"mark\": {\"type\": \"area\", \"opacity\": 0.5}, \"encoding\": {\"color\": {\"field\": \"Coalition\", \"legend\": {\"fillColor\": \"white\", \"labelFontSize\": 14, \"labelLimit\": 0, \"orient\": \"top-left\", \"symbolSize\": 50, \"symbolStrokeWidth\": 0, \"title\": null}, \"scale\": {\"domain\": [\"Sum of contribution of events GE t\"], \"range\": [\"#618FE0\"]}, \"type\": \"nominal\"}, \"x\": {\"axis\": {\"labelFontSize\": 15, \"title\": \"t (event index)\", \"titleFontSize\": 15}, \"field\": \"t (event index)\", \"type\": \"quantitative\"}, \"y\": {\"axis\": {\"grid\": true, \"labelFontSize\": 15, \"titleFontSize\": 15, \"titleX\": -28}, \"field\": \"Shapley Value\", \"scale\": {\"domain\": [-0.05, 1]}, \"type\": \"quantitative\"}}}, {\"mark\": \"line\", \"encoding\": {\"color\": {\"field\": \"Coalition\", \"legend\": {\"fillColor\": \"white\", \"labelFontSize\": 14, \"labelLimit\": 0, \"orient\": \"top-left\", \"symbolSize\": 50, \"symbolStrokeWidth\": 0, \"title\": null}, \"scale\": {\"domain\": [\"Sum of contribution of events GE t\"], \"range\": [\"#618FE0\"]}, \"type\": \"nominal\"}, \"x\": {\"axis\": {\"labelFontSize\": 15, \"title\": \"t (event index)\", \"titleFontSize\": 15}, \"field\": \"t (event index)\", \"type\": \"quantitative\"}, \"y\": {\"axis\": {\"grid\": true, \"labelFontSize\": 15, \"titleFontSize\": 15, \"titleX\": -28}, \"field\": \"Shapley Value\", \"scale\": {\"domain\": [-0.05, 1]}, \"type\": \"quantitative\"}}}, {\"data\": {\"name\": \"data-127505a03b066a5f27631121330f417d\"}, \"mark\": {\"type\": \"rule\", \"color\": \"#E17560\"}, \"encoding\": {\"x\": {\"field\": \"x\", \"type\": \"quantitative\"}}}, {\"data\": {\"name\": \"data-4429b804e29650be65567f2c49b58188\"}, \"mark\": {\"type\": \"text\", \"angle\": 270, \"color\": \"#E17560\", \"fontSize\": 15, \"fontWeight\": \"bold\", \"text\": \"Pruning\"}, \"encoding\": {\"x\": {\"field\": \"x\", \"type\": \"quantitative\"}}}], \"data\": {\"name\": \"data-7f527e34648ab2ea21c1fd10e253c15b\"}, \"height\": 225, \"width\": 350, \"$schema\": \"https://vega.github.io/schema/vega-lite/v4.17.0.json\", \"datasets\": {\"data-7f527e34648ab2ea21c1fd10e253c15b\": [{\"Coalition\": \"Sum of contribution of events G t\", \"t (event index)\": 0, \"Shapley Value\": 0.0}, {\"Coalition\": \"Sum of contribution of events GE t\", \"t (event index)\": 0, \"Shapley Value\": 0.04364126920700073}, {\"Coalition\": \"Sum of contribution of events G t\", \"t (event index)\": -1, \"Shapley Value\": 0.017005547881126404}, {\"Coalition\": \"Sum of contribution of events GE t\", \"t (event index)\": -1, \"Shapley Value\": 0.02663572132587433}, {\"Coalition\": \"Sum of contribution of events G t\", \"t (event index)\": -2, \"Shapley Value\": 0.021259844303131104}, {\"Coalition\": \"Sum of contribution of events GE t\", \"t (event index)\": -2, \"Shapley Value\": 0.02238142490386963}, {\"Coalition\": \"Sum of contribution of events G t\", \"t (event index)\": -3, \"Shapley Value\": 0.024140432476997375}, {\"Coalition\": \"Sum of contribution of events GE t\", \"t (event index)\": -3, \"Shapley Value\": 0.019500836730003357}, {\"Coalition\": \"Sum of contribution of events G t\", \"t (event index)\": -4, \"Shapley Value\": 0.02644076943397522}, {\"Coalition\": \"Sum of contribution of events GE t\", \"t (event index)\": -4, \"Shapley Value\": 0.017200499773025513}, {\"Coalition\": \"Sum of contribution of events G t\", \"t (event index)\": -5, \"Shapley Value\": 0.028209075331687927}, {\"Coalition\": \"Sum of contribution of events GE t\", \"t (event index)\": -5, \"Shapley Value\": 0.015432193875312805}, {\"Coalition\": \"Sum of contribution of events G t\", \"t (event index)\": -6, \"Shapley Value\": 0.02948528528213501}, {\"Coalition\": \"Sum of contribution of events GE t\", \"t (event index)\": -6, \"Shapley Value\": 0.014155983924865723}, {\"Coalition\": \"Sum of contribution of events G t\", \"t (event index)\": -7, \"Shapley Value\": 0.030366569757461548}, {\"Coalition\": \"Sum of contribution of events GE t\", \"t (event index)\": -7, \"Shapley Value\": 0.013274699449539185}, {\"Coalition\": \"Sum of contribution of events G t\", \"t (event index)\": -8, \"Shapley Value\": 0.03095923364162445}, {\"Coalition\": \"Sum of contribution of events GE t\", \"t (event index)\": -8, \"Shapley Value\": 0.012682035565376282}, {\"Coalition\": \"Sum of contribution of events G t\", \"t (event index)\": -9, \"Shapley Value\": 0.03135122358798981}, {\"Coalition\": \"Sum of contribution of events GE t\", \"t (event index)\": -9, \"Shapley Value\": 0.012290045619010925}, {\"Coalition\": \"Sum of contribution of events G t\", \"t (event index)\": -10, \"Shapley Value\": 0.03160727024078369}, {\"Coalition\": \"Sum of contribution of events GE t\", \"t (event index)\": -10, \"Shapley Value\": 0.012033998966217041}, {\"Coalition\": \"Sum of contribution of events G t\", \"t (event index)\": -11, \"Shapley Value\": 0.03177247941493988}, {\"Coalition\": \"Sum of contribution of events GE t\", \"t (event index)\": -11, \"Shapley Value\": 0.011868789792060852}, {\"Coalition\": \"Sum of contribution of events G t\", \"t (event index)\": -12, \"Shapley Value\": 0.0318770706653595}, {\"Coalition\": \"Sum of contribution of events GE t\", \"t (event index)\": -12, \"Shapley Value\": 0.011764198541641235}, {\"Coalition\": \"Sum of contribution of events G t\", \"t (event index)\": -13, \"Shapley Value\": 0.03194110095500946}, {\"Coalition\": \"Sum of contribution of events GE t\", \"t (event index)\": -13, \"Shapley Value\": 0.011700168251991272}, {\"Coalition\": \"Sum of contribution of events G t\", \"t (event index)\": -14, \"Shapley Value\": 0.031977370381355286}, {\"Coalition\": \"Sum of contribution of events GE t\", \"t (event index)\": -14, \"Shapley Value\": 0.011663898825645447}, {\"Coalition\": \"Sum of contribution of events G t\", \"t (event index)\": -15, \"Shapley Value\": 0.03199489414691925}, {\"Coalition\": \"Sum of contribution of events GE t\", \"t (event index)\": -15, \"Shapley Value\": 0.011646375060081482}, {\"Coalition\": \"Sum of contribution of events G t\", \"t (event index)\": -16, \"Shapley Value\": 0.03199906647205353}, {\"Coalition\": \"Sum of contribution of events GE t\", \"t (event index)\": -16, \"Shapley Value\": 0.011642202734947205}, {\"Coalition\": \"Sum of contribution of events G t\", \"t (event index)\": -17, \"Shapley Value\": 0.03199344873428345}, {\"Coalition\": \"Sum of contribution of events GE t\", \"t (event index)\": -17, \"Shapley Value\": 0.011647820472717285}, {\"Coalition\": \"Sum of contribution of events G t\", \"t (event index)\": -18, \"Shapley Value\": 0.031980499625205994}, {\"Coalition\": \"Sum of contribution of events GE t\", \"t (event index)\": -18, \"Shapley Value\": 0.011660769581794739}, {\"Coalition\": \"Sum of contribution of events G t\", \"t (event index)\": -19, \"Shapley Value\": 0.03196181356906891}, {\"Coalition\": \"Sum of contribution of events GE t\", \"t (event index)\": -19, \"Shapley Value\": 0.011679455637931824}, {\"Coalition\": \"Sum of contribution of events G t\", \"t (event index)\": -20, \"Shapley Value\": 0.03193908929824829}, {\"Coalition\": \"Sum of contribution of events GE t\", \"t (event index)\": -20, \"Shapley Value\": 0.011702179908752441}, {\"Coalition\": \"Sum of contribution of events G t\", \"t (event index)\": -21, \"Shapley Value\": 0.03191468119621277}, {\"Coalition\": \"Sum of contribution of events GE t\", \"t (event index)\": -21, \"Shapley Value\": 0.011726588010787964}, {\"Coalition\": \"Sum of contribution of events G t\", \"t (event index)\": -22, \"Shapley Value\": 0.031893715262413025}, {\"Coalition\": \"Sum of contribution of events GE t\", \"t (event index)\": -22, \"Shapley Value\": 0.011747553944587708}, {\"Coalition\": \"Sum of contribution of events G t\", \"t (event index)\": -23, \"Shapley Value\": 0.031892552971839905}, {\"Coalition\": \"Sum of contribution of events GE t\", \"t (event index)\": -23, \"Shapley Value\": 0.011748716235160828}, {\"Coalition\": \"Sum of contribution of events G t\", \"t (event index)\": -24, \"Shapley Value\": 0.03199160099029541}, {\"Coalition\": \"Sum of contribution of events GE t\", \"t (event index)\": -24, \"Shapley Value\": 0.011649668216705322}, {\"Coalition\": \"Sum of contribution of events G t\", \"t (event index)\": -25, \"Shapley Value\": 0.032962098717689514}, {\"Coalition\": \"Sum of contribution of events GE t\", \"t (event index)\": -25, \"Shapley Value\": 0.010679170489311218}, {\"Coalition\": \"Sum of contribution of events G t\", \"t (event index)\": -26, \"Shapley Value\": 0.033810198307037354}, {\"Coalition\": \"Sum of contribution of events GE t\", \"t (event index)\": -26, \"Shapley Value\": 0.009831070899963379}, {\"Coalition\": \"Sum of contribution of events G t\", \"t (event index)\": -27, \"Shapley Value\": 0.033845096826553345}, {\"Coalition\": \"Sum of contribution of events GE t\", \"t (event index)\": -27, \"Shapley Value\": 0.009796172380447388}, {\"Coalition\": \"Sum of contribution of events G t\", \"t (event index)\": -28, \"Shapley Value\": 0.03385031223297119}, {\"Coalition\": \"Sum of contribution of events GE t\", \"t (event index)\": -28, \"Shapley Value\": 0.009790956974029541}, {\"Coalition\": \"Sum of contribution of events G t\", \"t (event index)\": -29, \"Shapley Value\": 0.033856555819511414}, {\"Coalition\": \"Sum of contribution of events GE t\", \"t (event index)\": -29, \"Shapley Value\": 0.009784713387489319}, {\"Coalition\": \"Sum of contribution of events G t\", \"t (event index)\": -30, \"Shapley Value\": 0.033864811062812805}, {\"Coalition\": \"Sum of contribution of events GE t\", \"t (event index)\": -30, \"Shapley Value\": 0.009776458144187927}, {\"Coalition\": \"Sum of contribution of events G t\", \"t (event index)\": -31, \"Shapley Value\": 0.03387583792209625}, {\"Coalition\": \"Sum of contribution of events GE t\", \"t (event index)\": -31, \"Shapley Value\": 0.00976543128490448}, {\"Coalition\": \"Sum of contribution of events G t\", \"t (event index)\": -32, \"Shapley Value\": 0.03388930857181549}, {\"Coalition\": \"Sum of contribution of events GE t\", \"t (event index)\": -32, \"Shapley Value\": 0.009751960635185242}, {\"Coalition\": \"Sum of contribution of events G t\", \"t (event index)\": -33, \"Shapley Value\": 0.03390687704086304}, {\"Coalition\": \"Sum of contribution of events GE t\", \"t (event index)\": -33, \"Shapley Value\": 0.009734392166137695}, {\"Coalition\": \"Sum of contribution of events G t\", \"t (event index)\": -34, \"Shapley Value\": 0.03392857313156128}, {\"Coalition\": \"Sum of contribution of events GE t\", \"t (event index)\": -34, \"Shapley Value\": 0.009712696075439453}, {\"Coalition\": \"Sum of contribution of events G t\", \"t (event index)\": -35, \"Shapley Value\": 0.03395882248878479}, {\"Coalition\": \"Sum of contribution of events GE t\", \"t (event index)\": -35, \"Shapley Value\": 0.009682446718215942}, {\"Coalition\": \"Sum of contribution of events G t\", \"t (event index)\": -36, \"Shapley Value\": 0.03399883210659027}, {\"Coalition\": \"Sum of contribution of events GE t\", \"t (event index)\": -36, \"Shapley Value\": 0.009642437100410461}, {\"Coalition\": \"Sum of contribution of events G t\", \"t (event index)\": -37, \"Shapley Value\": 0.03405223786830902}, {\"Coalition\": \"Sum of contribution of events GE t\", \"t (event index)\": -37, \"Shapley Value\": 0.009589031338691711}, {\"Coalition\": \"Sum of contribution of events G t\", \"t (event index)\": -38, \"Shapley Value\": 0.03416465222835541}, {\"Coalition\": \"Sum of contribution of events GE t\", \"t (event index)\": -38, \"Shapley Value\": 0.009476616978645325}, {\"Coalition\": \"Sum of contribution of events G t\", \"t (event index)\": -39, \"Shapley Value\": 0.03428944945335388}, {\"Coalition\": \"Sum of contribution of events GE t\", \"t (event index)\": -39, \"Shapley Value\": 0.00935181975364685}, {\"Coalition\": \"Sum of contribution of events G t\", \"t (event index)\": -40, \"Shapley Value\": 0.034442126750946045}, {\"Coalition\": \"Sum of contribution of events GE t\", \"t (event index)\": -40, \"Shapley Value\": 0.009199142456054688}, {\"Coalition\": \"Sum of contribution of events G t\", \"t (event index)\": -41, \"Shapley Value\": 0.034683674573898315}, {\"Coalition\": \"Sum of contribution of events GE t\", \"t (event index)\": -41, \"Shapley Value\": 0.008957594633102417}, {\"Coalition\": \"Sum of contribution of events G t\", \"t (event index)\": -42, \"Shapley Value\": 0.034924283623695374}, {\"Coalition\": \"Sum of contribution of events GE t\", \"t (event index)\": -42, \"Shapley Value\": 0.008716985583305359}, {\"Coalition\": \"Sum of contribution of events G t\", \"t (event index)\": -43, \"Shapley Value\": 0.03522488474845886}, {\"Coalition\": \"Sum of contribution of events GE t\", \"t (event index)\": -43, \"Shapley Value\": 0.00841638445854187}, {\"Coalition\": \"Sum of contribution of events G t\", \"t (event index)\": -44, \"Shapley Value\": 0.03576521575450897}, {\"Coalition\": \"Sum of contribution of events GE t\", \"t (event index)\": -44, \"Shapley Value\": 0.00787605345249176}, {\"Coalition\": \"Sum of contribution of events G t\", \"t (event index)\": -45, \"Shapley Value\": 0.03625212609767914}, {\"Coalition\": \"Sum of contribution of events GE t\", \"t (event index)\": -45, \"Shapley Value\": 0.007389143109321594}, {\"Coalition\": \"Sum of contribution of events G t\", \"t (event index)\": -46, \"Shapley Value\": 0.03687983751296997}, {\"Coalition\": \"Sum of contribution of events GE t\", \"t (event index)\": -46, \"Shapley Value\": 0.006761431694030762}, {\"Coalition\": \"Sum of contribution of events G t\", \"t (event index)\": -47, \"Shapley Value\": 0.0380336195230484}, {\"Coalition\": \"Sum of contribution of events GE t\", \"t (event index)\": -47, \"Shapley Value\": 0.0056076496839523315}, {\"Coalition\": \"Sum of contribution of events G t\", \"t (event index)\": -48, \"Shapley Value\": 0.039130061864852905}, {\"Coalition\": \"Sum of contribution of events GE t\", \"t (event index)\": -48, \"Shapley Value\": 0.004511207342147827}, {\"Coalition\": \"Sum of contribution of events G t\", \"t (event index)\": -49, \"Shapley Value\": 0.040301576256752014}, {\"Coalition\": \"Sum of contribution of events GE t\", \"t (event index)\": -49, \"Shapley Value\": 0.0033396929502487183}, {\"Coalition\": \"Sum of contribution of events G t\", \"t (event index)\": -50, \"Shapley Value\": 0.04364126920700073}, {\"Coalition\": \"Sum of contribution of events GE t\", \"t (event index)\": -50, \"Shapley Value\": 0.0}], \"data-127505a03b066a5f27631121330f417d\": [{\"x\": -2}], \"data-4429b804e29650be65567f2c49b58188\": [{\"x\": -4}]}}, {\"mode\": \"vega-lite\"});\n",
       "</script>"
      ],
      "text/plain": [
       "alt.LayerChart(...)"
      ]
     },
     "execution_count": 21,
     "metadata": {},
     "output_type": "execute_result"
    }
   ],
   "source": [
    "pruning_dict = {'tol': 0.025}\n",
    "coal_plot_data, coal_prun_idx = local_pruning(f, pos_x_data, pruning_dict, average_event, positive_sequence_id, False)\n",
    "# coal_prun_idx is in negative terms\n",
    "pruning_idx = pos_x_data.shape[1] + coal_prun_idx\n",
    "pruning_plot = plot_temp_coalition_pruning(coal_plot_data, coal_prun_idx) #, plot_limit=40)\n",
    "pruning_plot"
   ]
  },
  {
   "cell_type": "markdown",
   "id": "dcc3974a",
   "metadata": {},
   "source": [
    "##### Event-level explanation"
   ]
  },
  {
   "cell_type": "code",
   "execution_count": 22,
   "id": "e0c43a5d",
   "metadata": {},
   "outputs": [
    {
     "name": "stdout",
     "output_type": "stream",
     "text": [
      "No path to event data provided. Calculating data\n"
     ]
    },
    {
     "data": {
      "text/html": [
       "\n",
       "<div id=\"altair-viz-02d8310bbe834b43a473ea1422be7f8f\"></div>\n",
       "<script type=\"text/javascript\">\n",
       "  var VEGA_DEBUG = (typeof VEGA_DEBUG == \"undefined\") ? {} : VEGA_DEBUG;\n",
       "  (function(spec, embedOpt){\n",
       "    let outputDiv = document.currentScript.previousElementSibling;\n",
       "    if (outputDiv.id !== \"altair-viz-02d8310bbe834b43a473ea1422be7f8f\") {\n",
       "      outputDiv = document.getElementById(\"altair-viz-02d8310bbe834b43a473ea1422be7f8f\");\n",
       "    }\n",
       "    const paths = {\n",
       "      \"vega\": \"https://cdn.jsdelivr.net/npm//vega@5?noext\",\n",
       "      \"vega-lib\": \"https://cdn.jsdelivr.net/npm//vega-lib?noext\",\n",
       "      \"vega-lite\": \"https://cdn.jsdelivr.net/npm//vega-lite@4.17.0?noext\",\n",
       "      \"vega-embed\": \"https://cdn.jsdelivr.net/npm//vega-embed@6?noext\",\n",
       "    };\n",
       "\n",
       "    function maybeLoadScript(lib, version) {\n",
       "      var key = `${lib.replace(\"-\", \"\")}_version`;\n",
       "      return (VEGA_DEBUG[key] == version) ?\n",
       "        Promise.resolve(paths[lib]) :\n",
       "        new Promise(function(resolve, reject) {\n",
       "          var s = document.createElement('script');\n",
       "          document.getElementsByTagName(\"head\")[0].appendChild(s);\n",
       "          s.async = true;\n",
       "          s.onload = () => {\n",
       "            VEGA_DEBUG[key] = version;\n",
       "            return resolve(paths[lib]);\n",
       "          };\n",
       "          s.onerror = () => reject(`Error loading script: ${paths[lib]}`);\n",
       "          s.src = paths[lib];\n",
       "        });\n",
       "    }\n",
       "\n",
       "    function showError(err) {\n",
       "      outputDiv.innerHTML = `<div class=\"error\" style=\"color:red;\">${err}</div>`;\n",
       "      throw err;\n",
       "    }\n",
       "\n",
       "    function displayChart(vegaEmbed) {\n",
       "      vegaEmbed(outputDiv, spec, embedOpt)\n",
       "        .catch(err => showError(`Javascript Error: ${err.message}<br>This usually means there's a typo in your chart specification. See the javascript console for the full traceback.`));\n",
       "    }\n",
       "\n",
       "    if(typeof define === \"function\" && define.amd) {\n",
       "      requirejs.config({paths});\n",
       "      require([\"vega-embed\"], displayChart, err => showError(`Error loading script: ${err.message}`));\n",
       "    } else {\n",
       "      maybeLoadScript(\"vega\", \"5\")\n",
       "        .then(() => maybeLoadScript(\"vega-lite\", \"4.17.0\"))\n",
       "        .then(() => maybeLoadScript(\"vega-embed\", \"6\"))\n",
       "        .catch(showError)\n",
       "        .then(() => displayChart(vegaEmbed));\n",
       "    }\n",
       "  })({\"config\": {\"view\": {\"continuousWidth\": 400, \"continuousHeight\": 300}}, \"layer\": [{\"mark\": \"rect\", \"encoding\": {\"color\": {\"field\": \"rounded\", \"legend\": {\"gradientLength\": 225, \"gradientThickness\": 10, \"labelFontSize\": 15, \"orient\": \"right\"}, \"scale\": {\"domain\": [-0.5, 0.5], \"range\": [\"#5f8fd6\", \"#99c3fb\", \"#f5f5f5\", \"#ffaa92\", \"#d16f5b\"]}, \"title\": null, \"type\": \"quantitative\"}, \"x\": {\"axis\": {\"title\": \"Shapley Value\", \"titleFontSize\": 15}, \"field\": \"column\", \"type\": \"ordinal\"}, \"y\": {\"axis\": {\"domain\": false, \"labelFontSize\": 15, \"title\": \"Event\", \"titleFontSize\": 15, \"titleX\": -49}, \"field\": \"Feature\", \"sort\": [\"Event -1\", \"Event -2\", \"Pruned Events\"], \"type\": \"ordinal\"}}}, {\"mark\": {\"type\": \"text\", \"align\": \"right\", \"baseline\": \"middle\", \"color\": \"#798184\", \"dx\": 18, \"fontSize\": 15}, \"encoding\": {\"text\": {\"field\": \"rounded_str\", \"type\": \"nominal\"}, \"x\": {\"axis\": {\"domain\": false, \"labels\": false, \"title\": \"Shapley Value\", \"titleX\": 43}, \"field\": \"column\", \"type\": \"ordinal\"}, \"y\": {\"axis\": {\"domain\": false, \"labelFontSize\": 15, \"title\": \"Event\", \"titleFontSize\": 15, \"titleX\": -49}, \"field\": \"Feature\", \"sort\": [\"Event -1\", \"Event -2\", \"Pruned Events\"], \"type\": \"ordinal\"}}}], \"data\": {\"name\": \"data-a266a464311390ba46c7fcb09cc229cd\"}, \"height\": 225, \"width\": 60, \"$schema\": \"https://vega.github.io/schema/vega-lite/v4.17.0.json\", \"datasets\": {\"data-a266a464311390ba46c7fcb09cc229cd\": [{\"Shapley Value\": 0.014101465543111164, \"Feature\": \"Event -1\", \"row\": 1, \"column\": 1, \"rounded\": 0.014, \"rounded_str\": \"0.014\"}, {\"Shapley Value\": 0.010062461098035175, \"Feature\": \"Event -2\", \"row\": 2, \"column\": 1, \"rounded\": 0.01, \"rounded_str\": \"0.010\"}, {\"Shapley Value\": 0.019477342565854393, \"Feature\": \"Pruned Events\", \"row\": 3, \"column\": 1, \"rounded\": 0.019, \"rounded_str\": \"0.019\"}]}}, {\"mode\": \"vega-lite\"});\n",
       "</script>"
      ],
      "text/plain": [
       "alt.LayerChart(...)"
      ]
     },
     "execution_count": 22,
     "metadata": {},
     "output_type": "execute_result"
    }
   ],
   "source": [
    "event_dict = {'rs': 42, 'nsamples': 32000}\n",
    "event_data = local_event(f, pos_x_data, event_dict, positive_sequence_id, sequence_id_feat, average_event, pruning_idx)\n",
    "event_plot = plot_event_heatmap(event_data)\n",
    "event_plot"
   ]
  },
  {
   "cell_type": "markdown",
   "id": "3052c885",
   "metadata": {},
   "source": [
    "##### Feature-level explanation"
   ]
  },
  {
   "cell_type": "code",
   "execution_count": 23,
   "id": "6a65cd49",
   "metadata": {},
   "outputs": [
    {
     "name": "stdout",
     "output_type": "stream",
     "text": [
      "No path to feature data provided. Calculating data\n"
     ]
    },
    {
     "data": {
      "text/html": [
       "\n",
       "<div id=\"altair-viz-28e5d988a1a3454f8adac60deafb0ae3\"></div>\n",
       "<script type=\"text/javascript\">\n",
       "  var VEGA_DEBUG = (typeof VEGA_DEBUG == \"undefined\") ? {} : VEGA_DEBUG;\n",
       "  (function(spec, embedOpt){\n",
       "    let outputDiv = document.currentScript.previousElementSibling;\n",
       "    if (outputDiv.id !== \"altair-viz-28e5d988a1a3454f8adac60deafb0ae3\") {\n",
       "      outputDiv = document.getElementById(\"altair-viz-28e5d988a1a3454f8adac60deafb0ae3\");\n",
       "    }\n",
       "    const paths = {\n",
       "      \"vega\": \"https://cdn.jsdelivr.net/npm//vega@5?noext\",\n",
       "      \"vega-lib\": \"https://cdn.jsdelivr.net/npm//vega-lib?noext\",\n",
       "      \"vega-lite\": \"https://cdn.jsdelivr.net/npm//vega-lite@4.17.0?noext\",\n",
       "      \"vega-embed\": \"https://cdn.jsdelivr.net/npm//vega-embed@6?noext\",\n",
       "    };\n",
       "\n",
       "    function maybeLoadScript(lib, version) {\n",
       "      var key = `${lib.replace(\"-\", \"\")}_version`;\n",
       "      return (VEGA_DEBUG[key] == version) ?\n",
       "        Promise.resolve(paths[lib]) :\n",
       "        new Promise(function(resolve, reject) {\n",
       "          var s = document.createElement('script');\n",
       "          document.getElementsByTagName(\"head\")[0].appendChild(s);\n",
       "          s.async = true;\n",
       "          s.onload = () => {\n",
       "            VEGA_DEBUG[key] = version;\n",
       "            return resolve(paths[lib]);\n",
       "          };\n",
       "          s.onerror = () => reject(`Error loading script: ${paths[lib]}`);\n",
       "          s.src = paths[lib];\n",
       "        });\n",
       "    }\n",
       "\n",
       "    function showError(err) {\n",
       "      outputDiv.innerHTML = `<div class=\"error\" style=\"color:red;\">${err}</div>`;\n",
       "      throw err;\n",
       "    }\n",
       "\n",
       "    function displayChart(vegaEmbed) {\n",
       "      vegaEmbed(outputDiv, spec, embedOpt)\n",
       "        .catch(err => showError(`Javascript Error: ${err.message}<br>This usually means there's a typo in your chart specification. See the javascript console for the full traceback.`));\n",
       "    }\n",
       "\n",
       "    if(typeof define === \"function\" && define.amd) {\n",
       "      requirejs.config({paths});\n",
       "      require([\"vega-embed\"], displayChart, err => showError(`Error loading script: ${err.message}`));\n",
       "    } else {\n",
       "      maybeLoadScript(\"vega\", \"5\")\n",
       "        .then(() => maybeLoadScript(\"vega-lite\", \"4.17.0\"))\n",
       "        .then(() => maybeLoadScript(\"vega-embed\", \"6\"))\n",
       "        .catch(showError)\n",
       "        .then(() => displayChart(vegaEmbed));\n",
       "    }\n",
       "  })({\"config\": {\"view\": {\"continuousWidth\": 400, \"continuousHeight\": 300}}, \"layer\": [{\"data\": {\"name\": \"data-c62ba987a7978a129a41a0ae4b413757\"}, \"mark\": {\"type\": \"bar\", \"size\": 15, \"thickness\": 1}, \"encoding\": {\"x\": {\"axis\": {\"grid\": true, \"labelFontSize\": 15, \"title\": \"Shapley Value\", \"titleFontSize\": 15}, \"field\": \"Shapley Value\", \"scale\": {\"domain\": [-0.1, 0.4]}, \"type\": \"quantitative\"}, \"y\": {\"axis\": {\"labelFontSize\": 15, \"title\": \"Feature\", \"titleFontSize\": 15, \"titleX\": -61}, \"field\": \"Feature\", \"sort\": {\"field\": \"sort_col\", \"order\": \"descending\"}, \"type\": \"nominal\"}}}, {\"data\": {\"name\": \"data-9c00aa9dc2b1c1a0b4bf9b34ead12925\"}, \"mark\": {\"type\": \"rule\", \"color\": \"#798184\"}, \"encoding\": {\"x\": {\"field\": \"x\", \"type\": \"quantitative\"}}}], \"height\": 225, \"width\": 190, \"$schema\": \"https://vega.github.io/schema/vega-lite/v4.17.0.json\", \"datasets\": {\"data-c62ba987a7978a129a41a0ae4b413757\": [{\"Random seed\": 42, \"NSamples\": 32000, \"Feature\": \"feature_1\", \"Shapley Value\": 0.0006464148561159729, \"sort_col\": 0.0006464148561159729}, {\"Random seed\": 42, \"NSamples\": 32000, \"Feature\": \"feature_2\", \"Shapley Value\": 2.4835268667977584e-09, \"sort_col\": 2.4835268667977584e-09}, {\"Random seed\": 42, \"NSamples\": 32000, \"Feature\": \"feature_3\", \"Shapley Value\": 0.020545599361260734, \"sort_col\": 0.020545599361260734}, {\"Random seed\": 42, \"NSamples\": 32000, \"Feature\": \"Pruned Events\", \"Shapley Value\": 0.02244925250609716, \"sort_col\": 0.02244925250609716}], \"data-9c00aa9dc2b1c1a0b4bf9b34ead12925\": [{\"x\": 0}]}}, {\"mode\": \"vega-lite\"});\n",
       "</script>"
      ],
      "text/plain": [
       "alt.LayerChart(...)"
      ]
     },
     "execution_count": 23,
     "metadata": {},
     "output_type": "execute_result"
    }
   ],
   "source": [
    "feature_dict = {'rs': 42, 'nsamples': 32000, 'feature_names': model_features}\n",
    "feature_data = local_feat(f, pos_x_data, feature_dict, positive_sequence_id, sequence_id_feat, average_event, pruning_idx)\n",
    "feature_plot = plot_feat_barplot(feature_data, feature_dict.get('top_feats'), feature_dict.get('plot_features'))\n",
    "feature_plot"
   ]
  },
  {
   "cell_type": "code",
   "execution_count": 24,
   "id": "32805403",
   "metadata": {},
   "outputs": [
    {
     "data": {
      "text/html": [
       "<div>\n",
       "<style scoped>\n",
       "    .dataframe tbody tr th:only-of-type {\n",
       "        vertical-align: middle;\n",
       "    }\n",
       "\n",
       "    .dataframe tbody tr th {\n",
       "        vertical-align: top;\n",
       "    }\n",
       "\n",
       "    .dataframe thead th {\n",
       "        text-align: right;\n",
       "    }\n",
       "</style>\n",
       "<table border=\"1\" class=\"dataframe\">\n",
       "  <thead>\n",
       "    <tr style=\"text-align: right;\">\n",
       "      <th></th>\n",
       "      <th>Random seed</th>\n",
       "      <th>NSamples</th>\n",
       "      <th>Feature</th>\n",
       "      <th>Shapley Value</th>\n",
       "    </tr>\n",
       "  </thead>\n",
       "  <tbody>\n",
       "    <tr>\n",
       "      <th>1</th>\n",
       "      <td>42</td>\n",
       "      <td>32000</td>\n",
       "      <td>feature_2</td>\n",
       "      <td>2.483527e-09</td>\n",
       "    </tr>\n",
       "    <tr>\n",
       "      <th>0</th>\n",
       "      <td>42</td>\n",
       "      <td>32000</td>\n",
       "      <td>feature_1</td>\n",
       "      <td>6.464149e-04</td>\n",
       "    </tr>\n",
       "    <tr>\n",
       "      <th>2</th>\n",
       "      <td>42</td>\n",
       "      <td>32000</td>\n",
       "      <td>feature_3</td>\n",
       "      <td>2.054560e-02</td>\n",
       "    </tr>\n",
       "    <tr>\n",
       "      <th>3</th>\n",
       "      <td>42</td>\n",
       "      <td>32000</td>\n",
       "      <td>Pruned Events</td>\n",
       "      <td>2.244925e-02</td>\n",
       "    </tr>\n",
       "  </tbody>\n",
       "</table>\n",
       "</div>"
      ],
      "text/plain": [
       "   Random seed  NSamples        Feature  Shapley Value\n",
       "1           42     32000      feature_2   2.483527e-09\n",
       "0           42     32000      feature_1   6.464149e-04\n",
       "2           42     32000      feature_3   2.054560e-02\n",
       "3           42     32000  Pruned Events   2.244925e-02"
      ]
     },
     "execution_count": 24,
     "metadata": {},
     "output_type": "execute_result"
    }
   ],
   "source": [
    "# Feature-level explanation - Table view\n",
    "feature_data.sort_values('Shapley Value')"
   ]
  }
 ],
 "metadata": {
  "kernelspec": {
   "display_name": "Python 3 (ipykernel)",
   "language": "python",
   "name": "python3"
  },
  "language_info": {
   "codemirror_mode": {
    "name": "ipython",
    "version": 3
   },
   "file_extension": ".py",
   "mimetype": "text/x-python",
   "name": "python",
   "nbconvert_exporter": "python",
   "pygments_lexer": "ipython3",
   "version": "3.9.7"
  }
 },
 "nbformat": 4,
 "nbformat_minor": 5
}
